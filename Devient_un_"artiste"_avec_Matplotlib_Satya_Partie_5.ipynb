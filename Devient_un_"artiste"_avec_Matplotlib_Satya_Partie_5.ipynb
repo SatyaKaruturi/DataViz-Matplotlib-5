{
  "nbformat": 4,
  "nbformat_minor": 0,
  "metadata": {
    "colab": {
      "name": "Devient un \"artiste\" avec Matplotlib_Satya - Partie 5.ipynb",
      "provenance": [],
      "collapsed_sections": []
    },
    "kernelspec": {
      "name": "python3",
      "display_name": "Python 3"
    }
  },
  "cells": [
    {
      "cell_type": "markdown",
      "metadata": {
        "id": "QGrqkCVbefZk",
        "colab_type": "text"
      },
      "source": [
        "# Mission 1\n",
        "\n",
        "![box plot](http://www.datasciencemadesimple.com/wp-content/uploads/2017/08/Box-plot-in-python-4.png)\n",
        "\n",
        "**Reproduit le boxplot ci-dessus**"
      ]
    },
    {
      "cell_type": "code",
      "metadata": {
        "id": "stMCaobQfKLl",
        "colab_type": "code",
        "outputId": "0830d7a9-bac5-4fa5-faba-240bcbfc0c67",
        "colab": {
          "base_uri": "https://localhost:8080/",
          "height": 265
        }
      },
      "source": [
        "import matplotlib.pyplot as plt\n",
        " \n",
        "value1 = [82,76,24,40,67,62,75,78,71,32,98,89,78,67,72,82,87,66,56,52]\n",
        "value2=[62,5,91,25,36,32,96,95,3,90,95,32,27,55,100,15,71,11,37,21]\n",
        "value3=[23,89,12,78,72,89,25,69,68,86,19,49,15,16,16,75,65,31,25,52]\n",
        "value4=[59,73,70,16,81,61,88,98,10,87,29,72,16,23,72,88,78,99,75,30]\n",
        " \n",
        "box_plot_data=[value1,value2,value3,value4]\n",
        "box=plt.boxplot(box_plot_data,vert=0,patch_artist=True,labels=['course1','course2','course3','course4'],\n",
        "            )\n",
        " \n",
        "colors = ['cyan', 'lightblue', 'lightgreen', 'tan']\n",
        "for patch, color in zip(box['boxes'], colors):\n",
        "    patch.set_facecolor(color)\n",
        " \n",
        "plt.show()\n"
      ],
      "execution_count": 0,
      "outputs": [
        {
          "output_type": "display_data",
          "data": {
            "image/png": "[encoded data removed]",
            "text/plain": [
              "<Figure size 432x288 with 1 Axes>"
            ]
          },
          "metadata": {
            "tags": []
          }
        }
      ]
    },
    {
      "cell_type": "markdown",
      "metadata": {
        "id": "ICGWpLhcaIYX",
        "colab_type": "text"
      },
      "source": [
        "# Mission 2\n",
        "\n",
        "Modifie le code ci-dessous dans une cellule code pour l'appliquer à des colonnes de ce dataset : http://bit.ly/drinksbycountry"
      ]
    },
    {
      "cell_type": "code",
      "metadata": {
        "id": "lgMsZ4AxdHv_",
        "colab_type": "code",
        "outputId": "a7df28ed-a457-4246-b5be-ba7f398d371d",
        "colab": {
          "base_uri": "https://localhost:8080/",
          "height": 295
        }
      },
      "source": [
        "import matplotlib.pyplot as plt\n",
        "import numpy as np\n",
        "\n",
        "np.random.seed(19680801)\n",
        "all_data = [np.random.normal(0, std, size=100) for std in range(1, 4)]\n",
        "labels = ['x1', 'x2', 'x3']\n",
        "\n",
        "fig, axes = plt.subplots(nrows=1, ncols=2, figsize=(9, 4))\n",
        "\n",
        "# rectangular box plot\n",
        "bplot1 = axes[0].boxplot(all_data,\n",
        "                         vert=True, \n",
        "                         patch_artist=True,  \n",
        "                         labels=labels) \n",
        "axes[0].set_title('Rectangular box plot')\n",
        "\n",
        "bplot2 = axes[1].boxplot(all_data,\n",
        "                         notch=True, \n",
        "                         vert=True, \n",
        "                         patch_artist=True, \n",
        "                         labels=labels) \n",
        "axes[1].set_title('Notched box plot')\n",
        "\n",
        "colors = ['pink', 'lightblue', 'lightgreen']\n",
        "for bplot in (bplot1, bplot2):\n",
        "    for patch, color in zip(bplot['boxes'], colors):\n",
        "        patch.set_facecolor(color)\n",
        "\n",
        "for ax in axes:\n",
        "    ax.yaxis.grid(True)\n",
        "    ax.set_xlabel('Three separate samples')\n",
        "    ax.set_ylabel('Observed values')\n",
        "\n",
        "plt.show()"
      ],
      "execution_count": 0,
      "outputs": [
        {
          "output_type": "display_data",
          "data": {
            "image/png": "[encoded data removed]",
            "text/plain": [
              "<Figure size 648x288 with 2 Axes>"
            ]
          },
          "metadata": {
            "tags": []
          }
        }
      ]
    },
    {
      "cell_type": "code",
      "metadata": {
        "id": "D2uIVyUoRxg2",
        "colab_type": "code",
        "outputId": "7e947412-8fdd-46fc-a0bc-0f95ab2d91cb",
        "colab": {
          "base_uri": "https://localhost:8080/",
          "height": 195
        }
      },
      "source": [
        "df.head()"
      ],
      "execution_count": 0,
      "outputs": [
        {
          "output_type": "execute_result",
          "data": {
            "text/html": [
              "<div>\n",
              "<style scoped>\n",
              "    .dataframe tbody tr th:only-of-type {\n",
              "        vertical-align: middle;\n",
              "    }\n",
              "\n",
              "    .dataframe tbody tr th {\n",
              "        vertical-align: top;\n",
              "    }\n",
              "\n",
              "    .dataframe thead th {\n",
              "        text-align: right;\n",
              "    }\n",
              "</style>\n",
              "<table border=\"1\" class=\"dataframe\">\n",
              "  <thead>\n",
              "    <tr style=\"text-align: right;\">\n",
              "      <th></th>\n",
              "      <th>country</th>\n",
              "      <th>beer_servings</th>\n",
              "      <th>spirit_servings</th>\n",
              "      <th>wine_servings</th>\n",
              "      <th>total_litres_of_pure_alcohol</th>\n",
              "      <th>continent</th>\n",
              "    </tr>\n",
              "  </thead>\n",
              "  <tbody>\n",
              "    <tr>\n",
              "      <th>0</th>\n",
              "      <td>Afghanistan</td>\n",
              "      <td>0</td>\n",
              "      <td>0</td>\n",
              "      <td>0</td>\n",
              "      <td>0.0</td>\n",
              "      <td>Asia</td>\n",
              "    </tr>\n",
              "    <tr>\n",
              "      <th>1</th>\n",
              "      <td>Albania</td>\n",
              "      <td>89</td>\n",
              "      <td>132</td>\n",
              "      <td>54</td>\n",
              "      <td>4.9</td>\n",
              "      <td>Europe</td>\n",
              "    </tr>\n",
              "    <tr>\n",
              "      <th>2</th>\n",
              "      <td>Algeria</td>\n",
              "      <td>25</td>\n",
              "      <td>0</td>\n",
              "      <td>14</td>\n",
              "      <td>0.7</td>\n",
              "      <td>Africa</td>\n",
              "    </tr>\n",
              "    <tr>\n",
              "      <th>3</th>\n",
              "      <td>Andorra</td>\n",
              "      <td>245</td>\n",
              "      <td>138</td>\n",
              "      <td>312</td>\n",
              "      <td>12.4</td>\n",
              "      <td>Europe</td>\n",
              "    </tr>\n",
              "    <tr>\n",
              "      <th>4</th>\n",
              "      <td>Angola</td>\n",
              "      <td>217</td>\n",
              "      <td>57</td>\n",
              "      <td>45</td>\n",
              "      <td>5.9</td>\n",
              "      <td>Africa</td>\n",
              "    </tr>\n",
              "  </tbody>\n",
              "</table>\n",
              "</div>"
            ],
            "text/plain": [
              "       country  beer_servings  ...  total_litres_of_pure_alcohol  continent\n",
              "0  Afghanistan              0  ...                           0.0       Asia\n",
              "1      Albania             89  ...                           4.9     Europe\n",
              "2      Algeria             25  ...                           0.7     Africa\n",
              "3      Andorra            245  ...                          12.4     Europe\n",
              "4       Angola            217  ...                           5.9     Africa\n",
              "\n",
              "[5 rows x 6 columns]"
            ]
          },
          "metadata": {
            "tags": []
          },
          "execution_count": 3
        }
      ]
    },
    {
      "cell_type": "code",
      "metadata": {
        "id": "mATTTUzrSCGw",
        "colab_type": "code",
        "outputId": "4c726abe-7113-470f-cd16-052a9f601ded",
        "colab": {
          "base_uri": "https://localhost:8080/",
          "height": 295
        }
      },
      "source": [
        "import matplotlib.pyplot as plt\n",
        "import numpy as np\n",
        "import pandas as pd\n",
        "\n",
        "url = \"https://raw.githubusercontent.com/justmarkham/pandas-videos/master/data/drinks.csv\"\n",
        "df = pd.read_csv(url, sep=\",\")\n",
        "df_col = df['beer_servings'], df['spirit_servings'], df['wine_servings']\n",
        "\n",
        "labels = ['beer', 'spirit', 'wine']\n",
        "\n",
        "fig, axes = plt.subplots(nrows=1, ncols=2, figsize=(9, 4))\n",
        "\n",
        "# rectangular box plot\n",
        "bplot1 = axes[0].boxplot(df_col,\n",
        "                         vert=True, \n",
        "                         patch_artist=True,  \n",
        "                         labels=labels) \n",
        "axes[0].set_title('Rectangular box plot')\n",
        "\n",
        "bplot2 = axes[1].boxplot(df_col,\n",
        "                         notch=True, \n",
        "                         vert=True, \n",
        "                         patch_artist=True, \n",
        "                         labels=labels) \n",
        "axes[1].set_title('Notched box plot')\n",
        "\n",
        "colors = ['pink', 'lightblue', 'lightgreen']\n",
        "for bplot in (bplot1, bplot2):\n",
        "    for patch, color in zip(bplot['boxes'], colors):\n",
        "        patch.set_facecolor(color)\n",
        "\n",
        "for ax in axes:\n",
        "    ax.yaxis.grid(True)\n",
        "    ax.set_xlabel('Three separate samples')\n",
        "    ax.set_ylabel('Observed values')\n",
        "\n",
        "plt.show()"
      ],
      "execution_count": 0,
      "outputs": [
        {
          "output_type": "display_data",
          "data": {
            "image/png": "[encoded data removed]",
            "text/plain": [
              "<Figure size 648x288 with 2 Axes>"
            ]
          },
          "metadata": {
            "tags": []
          }
        }
      ]
    },
    {
      "cell_type": "markdown",
      "metadata": {
        "id": "C9sVeMXWY18I",
        "colab_type": "text"
      },
      "source": [
        "# Mission 3\n",
        "\n",
        "Commente le code ci-dessous pour l'expliquer à un autre Data analyst. Ensuite commente l'appliquer à ce dataset : http://bit.ly/drinksbycountry"
      ]
    },
    {
      "cell_type": "code",
      "metadata": {
        "id": "I5MAw7jldSG4",
        "colab_type": "code",
        "outputId": "dc814fa0-aa3d-4ef7-ebc4-0209f8fb6f20",
        "colab": {
          "base_uri": "https://localhost:8080/",
          "height": 295
        }
      },
      "source": [
        "import matplotlib.pyplot as plt #import matplot pour fair le visualizations\n",
        "import numpy as np  #NumPy est le paquet fondamental pour l'informatique scientifique avec Python\n",
        " \n",
        "fig, axes = plt.subplots(nrows=1, ncols=2, figsize=(9, 4)) #crée le fig  et axis avec no de columns et rows, figsize pour montre la graph de taille on aime\n",
        "\n",
        "np.random.seed(19680801)\n",
        "\n",
        "\n",
        "all_data = [np.random.normal(0, std, 100) for std in range(6, 10)] #crée le data qu'on utilise pour visualizations\n",
        "\n",
        "axes[0].violinplot(all_data,        #crée le violin plot avec le alldata\n",
        "                   showmeans=False,\n",
        "                   showmedians=True)\n",
        "axes[0].set_title('Violin plot')   #pour mettre le title de plot\n",
        "\n",
        "axes[1].boxplot(all_data)     #crée le box plot avec le alldata\n",
        "axes[1].set_title('Box plot') #pour mettre le title de plot\n",
        "\n",
        "for ax in axes: \n",
        "    ax.yaxis.grid(True)\n",
        "    ax.set_xticks([y + 1 for y in range(len(all_data))])\n",
        "    ax.set_xlabel('Four separate samples')  #donné les labels pour x et y axis\n",
        "    ax.set_ylabel('Observed values')\n",
        "\n",
        "plt.setp(axes, xticks=[y + 1 for y in range(len(all_data))], #\"set property\" pour définir les propriétés de l'objet\n",
        "         xticklabels=['x1', 'x2', 'x3', 'x4'])         #Tick labels pour x axis \n",
        "plt.show() #pour montre le plot"
      ],
      "execution_count": 0,
      "outputs": [
        {
          "output_type": "display_data",
          "data": {
            "image/png": "[encoded data removed]",
            "text/plain": [
              "<Figure size 648x288 with 2 Axes>"
            ]
          },
          "metadata": {
            "tags": []
          }
        }
      ]
    },
    {
      "cell_type": "code",
      "metadata": {
        "id": "1NJoYPZEXZsm",
        "colab_type": "code",
        "outputId": "882f7348-12d3-479e-a6a3-84d21b25e1de",
        "colab": {
          "base_uri": "https://localhost:8080/",
          "height": 195
        }
      },
      "source": [
        "df1.head()"
      ],
      "execution_count": 0,
      "outputs": [
        {
          "output_type": "execute_result",
          "data": {
            "text/html": [
              "<div>\n",
              "<style scoped>\n",
              "    .dataframe tbody tr th:only-of-type {\n",
              "        vertical-align: middle;\n",
              "    }\n",
              "\n",
              "    .dataframe tbody tr th {\n",
              "        vertical-align: top;\n",
              "    }\n",
              "\n",
              "    .dataframe thead th {\n",
              "        text-align: right;\n",
              "    }\n",
              "</style>\n",
              "<table border=\"1\" class=\"dataframe\">\n",
              "  <thead>\n",
              "    <tr style=\"text-align: right;\">\n",
              "      <th></th>\n",
              "      <th>country</th>\n",
              "      <th>beer_servings</th>\n",
              "      <th>spirit_servings</th>\n",
              "      <th>wine_servings</th>\n",
              "      <th>total_litres_of_pure_alcohol</th>\n",
              "      <th>continent</th>\n",
              "    </tr>\n",
              "  </thead>\n",
              "  <tbody>\n",
              "    <tr>\n",
              "      <th>0</th>\n",
              "      <td>Afghanistan</td>\n",
              "      <td>0</td>\n",
              "      <td>0</td>\n",
              "      <td>0</td>\n",
              "      <td>0.0</td>\n",
              "      <td>Asia</td>\n",
              "    </tr>\n",
              "    <tr>\n",
              "      <th>1</th>\n",
              "      <td>Albania</td>\n",
              "      <td>89</td>\n",
              "      <td>132</td>\n",
              "      <td>54</td>\n",
              "      <td>4.9</td>\n",
              "      <td>Europe</td>\n",
              "    </tr>\n",
              "    <tr>\n",
              "      <th>2</th>\n",
              "      <td>Algeria</td>\n",
              "      <td>25</td>\n",
              "      <td>0</td>\n",
              "      <td>14</td>\n",
              "      <td>0.7</td>\n",
              "      <td>Africa</td>\n",
              "    </tr>\n",
              "    <tr>\n",
              "      <th>3</th>\n",
              "      <td>Andorra</td>\n",
              "      <td>245</td>\n",
              "      <td>138</td>\n",
              "      <td>312</td>\n",
              "      <td>12.4</td>\n",
              "      <td>Europe</td>\n",
              "    </tr>\n",
              "    <tr>\n",
              "      <th>4</th>\n",
              "      <td>Angola</td>\n",
              "      <td>217</td>\n",
              "      <td>57</td>\n",
              "      <td>45</td>\n",
              "      <td>5.9</td>\n",
              "      <td>Africa</td>\n",
              "    </tr>\n",
              "  </tbody>\n",
              "</table>\n",
              "</div>"
            ],
            "text/plain": [
              "       country  beer_servings  ...  total_litres_of_pure_alcohol  continent\n",
              "0  Afghanistan              0  ...                           0.0       Asia\n",
              "1      Albania             89  ...                           4.9     Europe\n",
              "2      Algeria             25  ...                           0.7     Africa\n",
              "3      Andorra            245  ...                          12.4     Europe\n",
              "4       Angola            217  ...                           5.9     Africa\n",
              "\n",
              "[5 rows x 6 columns]"
            ]
          },
          "metadata": {
            "tags": []
          },
          "execution_count": 16
        }
      ]
    },
    {
      "cell_type": "code",
      "metadata": {
        "id": "noc_ugLjcIjA",
        "colab_type": "code",
        "outputId": "6f7ef23d-ec0a-4bb4-964f-63b05a08cd96",
        "colab": {
          "base_uri": "https://localhost:8080/",
          "height": 295
        }
      },
      "source": [
        "import matplotlib.pyplot as plt\n",
        "import numpy as np\n",
        "\n",
        "url1 = \"https://raw.githubusercontent.com/justmarkham/pandas-videos/master/data/drinks.csv\"\n",
        "df1 = pd.read_csv(url1, sep=\",\")\n",
        "df_col1 = df1['beer_servings'], df1['spirit_servings'], df1['wine_servings'], df1['total_litres_of_pure_alcohol']\n",
        "\n",
        "\n",
        "fig, axes = plt.subplots(nrows=1, ncols=2, figsize=(9, 4))\n",
        "axes[0].violinplot(df_col1,\n",
        "                   showmeans=False,\n",
        "                   showmedians=True)\n",
        "axes[0].set_title('Violin plot')\n",
        "\n",
        "axes[1].boxplot(df_col1)\n",
        "axes[1].set_title('Box plot')\n",
        "\n",
        "for ax in axes:\n",
        "    ax.yaxis.grid(True)\n",
        "    ax.set_xticks([y + 1 for y in range(len(df_col1))])\n",
        "    ax.set_xlabel('Four separate samples')\n",
        "    ax.set_ylabel('Observed values')\n",
        "\n",
        "plt.setp(axes, xticks=[y + 1 for y in range(len(df_col1))],\n",
        "         xticklabels=['beer', 'spirit', 'wine', 'pure'])\n",
        "plt.show()"
      ],
      "execution_count": 0,
      "outputs": [
        {
          "output_type": "display_data",
          "data": {
            "image/png": "[encoded data removed]",
            "text/plain": [
              "<Figure size 648x288 with 2 Axes>"
            ]
          },
          "metadata": {
            "tags": []
          }
        }
      ]
    }
  ]
}